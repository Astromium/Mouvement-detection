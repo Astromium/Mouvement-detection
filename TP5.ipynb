{
 "cells": [
  {
   "cell_type": "code",
   "execution_count": 1,
   "metadata": {},
   "outputs": [],
   "source": [
    "import numpy as np\n",
    "import cv2\n",
    "from PIL import ImageGrab"
   ]
  },
  {
   "cell_type": "markdown",
   "metadata": {},
   "source": [
    "### Mèthode de la moyenne récursive"
   ]
  },
  {
   "cell_type": "code",
   "execution_count": 27,
   "metadata": {},
   "outputs": [],
   "source": [
    "def motion_detector_moyen(alpha):\n",
    "    frames = 0\n",
    "    prev_frame = None\n",
    "    prepared_frame = None\n",
    "    video_capture = cv2.VideoCapture('./MV_TRIMMED.mp4')\n",
    "    frame_count = video_capture.get(7)\n",
    "    #print(frame_count)\n",
    "    #print(video_capture.isOpened())\n",
    "\n",
    "    while (video_capture.isOpened() and frames < frame_count):\n",
    "        frames += 1\n",
    "        # img_brg = np.array(ImageGrab.grab())\n",
    "        # img_rgb = cv2.cvtColor(img_brg, cv2.COLOR_BGR2RGB)\n",
    "        ret, img_brg = video_capture.read()\n",
    "        img_rgb = cv2.cvtColor(img_brg, cv2.COLOR_BGR2RGB)\n",
    "\n",
    "        if((frames % 2) == 0):\n",
    "            # convert to grayscale\n",
    "            prepared_frame = cv2.cvtColor(img_rgb, cv2.COLOR_RGB2GRAY)\n",
    "            # smooth the image with gaussian blur\n",
    "            prepared_frame = cv2.GaussianBlur(prepared_frame, (5, 5), 0)\n",
    "        \n",
    "        if(prev_frame is None):\n",
    "            prev_frame = prepared_frame\n",
    "            continue\n",
    "        \n",
    "        # calculate the difference\n",
    "        m = alpha * prepared_frame + (1 - alpha) * prev_frame\n",
    "        m = np.uint8(m)\n",
    "        diff_frame = cv2.absdiff(m, prepared_frame)\n",
    "        prev_frame = prepared_frame\n",
    "\n",
    "        # add dilation\n",
    "        diff_frame = cv2.dilate(diff_frame, np.ones((5,5)), iterations=2)\n",
    "        # add threshold\n",
    "        _, diff_frame = cv2.threshold(diff_frame, 20, 255, cv2.THRESH_BINARY)\n",
    "\n",
    "        # find and draw contours\n",
    "        contours, _ = cv2.findContours(diff_frame, cv2.RETR_EXTERNAL, cv2.CHAIN_APPROX_SIMPLE)\n",
    "        cv2.drawContours(img_rgb, contours, -1, (0, 255, 0), 2)\n",
    "\n",
    "        cv2.imshow('Detection de mouvement', img_rgb)\n",
    "\n",
    "        if(cv2.waitKey(1) & 0xFF == ord('q')):\n",
    "            video_capture.release()\n",
    "            break"
   ]
  },
  {
   "cell_type": "markdown",
   "metadata": {},
   "source": [
    "### Méthode de Richefeu "
   ]
  },
  {
   "cell_type": "code",
   "execution_count": 35,
   "metadata": {},
   "outputs": [],
   "source": [
    "def motion_detector_richefeu(alpha):\n",
    "    frames = 0\n",
    "    #prev_frame = None\n",
    "    prepared_frame = None\n",
    "    M = None\n",
    "    m = None\n",
    "    video_capture = cv2.VideoCapture('./MV_TRIMMED.mp4')\n",
    "    frame_count = video_capture.get(7)\n",
    "    #print(frame_count)\n",
    "    #print(video_capture.isOpened())\n",
    "\n",
    "    while (video_capture.isOpened() and frames < frame_count):\n",
    "        frames += 1\n",
    "        # img_brg = np.array(ImageGrab.grab())\n",
    "        # img_rgb = cv2.cvtColor(img_brg, cv2.COLOR_BGR2RGB)\n",
    "        ret, img_brg = video_capture.read()\n",
    "        img_rgb = cv2.cvtColor(img_brg, cv2.COLOR_BGR2RGB)\n",
    "\n",
    "        if((frames % 2) == 0):\n",
    "            # convert to grayscale\n",
    "            prepared_frame = cv2.cvtColor(img_rgb, cv2.COLOR_RGB2GRAY)\n",
    "            # smooth the image with gaussian blur\n",
    "            prepared_frame = cv2.GaussianBlur(prepared_frame, (5, 5), 0)\n",
    "        \n",
    "        if(M is None and m is None):\n",
    "            #prev_frame = prepared_frame\n",
    "            M = prepared_frame\n",
    "            m = prepared_frame\n",
    "            continue\n",
    "        \n",
    "        # calculate the difference\n",
    "        M = alpha * prepared_frame + (1 - alpha) * np.maximum(prepared_frame, M)\n",
    "        M = np.uint8(M)\n",
    "        m = alpha * prepared_frame + (1 - alpha) * np.minimum(prepared_frame, m)\n",
    "        m = np.uint8(m)\n",
    "        diff_frame = cv2.subtract(M, m)\n",
    "        #prev_frame = prepared_frame\n",
    "\n",
    "        # add dilation\n",
    "        diff_frame = cv2.dilate(diff_frame, np.ones((5,5)), iterations=2)\n",
    "        # add threshold\n",
    "        _, diff_frame = cv2.threshold(diff_frame, 20, 255, cv2.THRESH_BINARY)\n",
    "\n",
    "        # find and draw contours\n",
    "        contours, _ = cv2.findContours(diff_frame, cv2.RETR_EXTERNAL, cv2.CHAIN_APPROX_SIMPLE)\n",
    "        cv2.drawContours(img_rgb, contours, -1, (0, 255, 0), 2)\n",
    "\n",
    "        cv2.imshow('Detection de mouvement', img_rgb)\n",
    "\n",
    "        if(cv2.waitKey(1) & 0xFF == ord('q')):\n",
    "            video_capture.release()\n",
    "            break"
   ]
  },
  {
   "cell_type": "markdown",
   "metadata": {},
   "source": [
    "### Tune the parameter $\\alpha$ to get variant results"
   ]
  },
  {
   "cell_type": "code",
   "execution_count": 34,
   "metadata": {},
   "outputs": [],
   "source": [
    "motion_detector_moyen(0.5)\n",
    "cv2.destroyAllWindows()"
   ]
  },
  {
   "cell_type": "code",
   "execution_count": 38,
   "metadata": {},
   "outputs": [],
   "source": [
    "motion_detector_richefeu(0.5)\n",
    "cv2.destroyAllWindows()"
   ]
  },
  {
   "cell_type": "code",
   "execution_count": null,
   "metadata": {},
   "outputs": [],
   "source": []
  }
 ],
 "metadata": {
  "interpreter": {
   "hash": "81794d4967e6c3204c66dcd87b604927b115b27c00565d3d43f05ba2f3a2cb0d"
  },
  "kernelspec": {
   "display_name": "Python 3.9.5 64-bit",
   "language": "python",
   "name": "python3"
  },
  "language_info": {
   "codemirror_mode": {
    "name": "ipython",
    "version": 3
   },
   "file_extension": ".py",
   "mimetype": "text/x-python",
   "name": "python",
   "nbconvert_exporter": "python",
   "pygments_lexer": "ipython3",
   "version": "3.9.5"
  },
  "orig_nbformat": 4
 },
 "nbformat": 4,
 "nbformat_minor": 2
}
